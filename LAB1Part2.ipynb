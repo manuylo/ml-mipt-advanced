{
  "nbformat": 4,
  "nbformat_minor": 0,
  "metadata": {
    "anaconda-cloud": {},
    "colab": {
      "name": "Copy of homework.ipynb",
      "provenance": [],
      "collapsed_sections": [],
      "toc_visible": true,
      "machine_shape": "hm"
    },
    "kernelspec": {
      "display_name": "Py3 research env",
      "language": "python",
      "name": "py3_research"
    },
    "language_info": {
      "codemirror_mode": {
        "name": "ipython",
        "version": 3
      },
      "file_extension": ".py",
      "mimetype": "text/x-python",
      "name": "python",
      "nbconvert_exporter": "python",
      "pygments_lexer": "ipython3",
      "version": "3.6.7"
    },
    "accelerator": "GPU"
  },
  "cells": [
    {
      "cell_type": "markdown",
      "metadata": {
        "colab_type": "text",
        "id": "eulvfJWl7ueY"
      },
      "source": [
        "# Lab 1"
      ]
    },
    {
      "cell_type": "markdown",
      "metadata": {
        "id": "WDdMEwiiD7wT",
        "colab_type": "text"
      },
      "source": [
        "## Part 2: Neural Machine Translation in the wild\n",
        "In the second part of the homework you are supposed to get the best translation you can for the EN-RU translation task.\n",
        "\n",
        "Basic approach using RNNs as encoder and decoder is implemented for you. \n",
        "\n",
        "Your ultimate task is to use the techniques we've covered, e.g.\n",
        "* [Byte Pair Encoding](https://github.com/rsennrich/subword-nmt)\n",
        "\n",
        "* CNN encoder (with or without positional encoding)\n",
        "\n",
        "* attention/self-attention mechanism\n",
        "\n",
        "* pretraining the language model\n",
        "\n",
        "* or just fine-tunning BERT)\n",
        "\n",
        "to improve the translation quality. \n",
        "\n",
        "__Please use at least three different approaches/models and compare them (translation quality/complexity/training and evaluation time).__\n",
        "Write down some summary on your experiments and illustrate it with convergence plots/metrics and your thoughts. Just like you would approach a real problem."
      ]
    },
    {
      "cell_type": "code",
      "metadata": {
        "id": "-yZTc_-tD7wj",
        "colab_type": "code",
        "outputId": "7c70ca4e-9aab-4493-ad12-75608289e7b3",
        "colab": {
          "base_uri": "https://localhost:8080/",
          "height": 696
        }
      },
      "source": [
        "! pip  install subword-nmt\n",
        "! pip install nltk\n",
        "! pip install torchtext\n",
        "! wget https://raw.githubusercontent.com/ml-mipt/ml-mipt/advanced/homeworks/Lab1_NLP/data.txt\n",
        "! pip install https://github.com/rsennrich/subword-nmt/archive/master.zip\n",
        "# Thanks to YSDA NLP course team for the data\n",
        "# (who thanks tilda and deephack teams for the data in their turn)"
      ],
      "execution_count": 31,
      "outputs": [
        {
          "output_type": "stream",
          "text": [
            "Requirement already satisfied (use --upgrade to upgrade): subword-nmt==0.3.7 from https://github.com/rsennrich/subword-nmt/archive/master.zip in /usr/local/lib/python3.6/dist-packages\n",
            "Building wheels for collected packages: subword-nmt\n",
            "  Building wheel for subword-nmt (setup.py) ... \u001b[?25l\u001b[?25hdone\n",
            "  Created wheel for subword-nmt: filename=subword_nmt-0.3.7-cp36-none-any.whl size=25140 sha256=04913b4730653f9993b354cc90e6a4965cf12fb5bd1e70bb123e8e4e6320c7a1\n",
            "  Stored in directory: /tmp/pip-ephem-wheel-cache-f1vjgoq9/wheels/f8/96/2f/67d2f7991a593e6f63468df1a71368ee07287c4006858a16e0\n",
            "Successfully built subword-nmt\n",
            "Requirement already satisfied: subword-nmt in /usr/local/lib/python3.6/dist-packages (0.3.7)\n",
            "Requirement already satisfied: nltk in /usr/local/lib/python3.6/dist-packages (3.2.5)\n",
            "Requirement already satisfied: six in /usr/local/lib/python3.6/dist-packages (from nltk) (1.12.0)\n",
            "Requirement already satisfied: torchtext in /usr/local/lib/python3.6/dist-packages (0.3.1)\n",
            "Requirement already satisfied: torch in /usr/local/lib/python3.6/dist-packages (from torchtext) (1.5.0+cu101)\n",
            "Requirement already satisfied: numpy in /usr/local/lib/python3.6/dist-packages (from torchtext) (1.18.3)\n",
            "Requirement already satisfied: tqdm in /usr/local/lib/python3.6/dist-packages (from torchtext) (4.38.0)\n",
            "Requirement already satisfied: requests in /usr/local/lib/python3.6/dist-packages (from torchtext) (2.23.0)\n",
            "Requirement already satisfied: future in /usr/local/lib/python3.6/dist-packages (from torch->torchtext) (0.16.0)\n",
            "Requirement already satisfied: idna<3,>=2.5 in /usr/local/lib/python3.6/dist-packages (from requests->torchtext) (2.9)\n",
            "Requirement already satisfied: urllib3!=1.25.0,!=1.25.1,<1.26,>=1.21.1 in /usr/local/lib/python3.6/dist-packages (from requests->torchtext) (1.24.3)\n",
            "Requirement already satisfied: certifi>=2017.4.17 in /usr/local/lib/python3.6/dist-packages (from requests->torchtext) (2020.4.5.1)\n",
            "Requirement already satisfied: chardet<4,>=3.0.2 in /usr/local/lib/python3.6/dist-packages (from requests->torchtext) (3.0.4)\n",
            "--2020-05-02 15:08:22--  https://raw.githubusercontent.com/ml-mipt/ml-mipt/advanced/homeworks/Lab1_NLP/data.txt\n",
            "Resolving raw.githubusercontent.com (raw.githubusercontent.com)... 151.101.0.133, 151.101.64.133, 151.101.128.133, ...\n",
            "Connecting to raw.githubusercontent.com (raw.githubusercontent.com)|151.101.0.133|:443... connected.\n",
            "HTTP request sent, awaiting response... 200 OK\n",
            "Length: 12905334 (12M) [text/plain]\n",
            "Saving to: ‘data.txt.2’\n",
            "\n",
            "data.txt.2          100%[===================>]  12.31M  28.2MB/s    in 0.4s    \n",
            "\n",
            "2020-05-02 15:08:23 (28.2 MB/s) - ‘data.txt.2’ saved [12905334/12905334]\n",
            "\n",
            "Collecting https://github.com/rsennrich/subword-nmt/archive/master.zip\n",
            "  Using cached https://github.com/rsennrich/subword-nmt/archive/master.zip\n",
            "Requirement already satisfied (use --upgrade to upgrade): subword-nmt==0.3.7 from https://github.com/rsennrich/subword-nmt/archive/master.zip in /usr/local/lib/python3.6/dist-packages\n",
            "Building wheels for collected packages: subword-nmt\n",
            "  Building wheel for subword-nmt (setup.py) ... \u001b[?25l\u001b[?25hdone\n",
            "  Created wheel for subword-nmt: filename=subword_nmt-0.3.7-cp36-none-any.whl size=25140 sha256=a7835b61583308e92041a24232e98c1061fa14e290cdf8e911419375790331be\n",
            "  Stored in directory: /tmp/pip-ephem-wheel-cache-wmt581jj/wheels/f8/96/2f/67d2f7991a593e6f63468df1a71368ee07287c4006858a16e0\n",
            "Successfully built subword-nmt\n"
          ],
          "name": "stdout"
        }
      ]
    },
    {
      "cell_type": "code",
      "metadata": {
        "id": "VDjFFzJuD7xV",
        "colab_type": "code",
        "colab": {}
      },
      "source": [
        "import torch\n",
        "import torch.nn as nn\n",
        "import torch.optim as optim\n",
        "\n",
        "import torchtext\n",
        "from torchtext.datasets import TranslationDataset, Multi30k\n",
        "from torchtext.data import Field, BucketIterator\n",
        "\n",
        "import spacy\n",
        "\n",
        "import random\n",
        "import math\n",
        "import time\n",
        "\n",
        "import matplotlib\n",
        "matplotlib.rcParams.update({'figure.figsize': (16, 12), 'font.size': 14})\n",
        "import matplotlib.pyplot as plt\n",
        "%matplotlib inline\n",
        "from IPython.display import clear_output\n",
        "\n",
        "from nltk.tokenize import WordPunctTokenizer\n",
        "from subword_nmt.learn_bpe import learn_bpe\n",
        "from subword_nmt.apply_bpe import BPE\n"
      ],
      "execution_count": 0,
      "outputs": []
    },
    {
      "cell_type": "markdown",
      "metadata": {
        "id": "yqxHYykaD7yG",
        "colab_type": "text"
      },
      "source": [
        "### Main part\n",
        "__Here comes the preprocessing. Do not hesitate to use BPE or more complex preprocessing ;)__"
      ]
    },
    {
      "cell_type": "code",
      "metadata": {
        "id": "UuOd8z0cD7yR",
        "colab_type": "code",
        "colab": {}
      },
      "source": [
        "tokenizer_W = WordPunctTokenizer()\n",
        "def tokenize(x, tokenizer=tokenizer_W):\n",
        "    return tokenizer.tokenize(x.lower())"
      ],
      "execution_count": 0,
      "outputs": []
    },
    {
      "cell_type": "code",
      "metadata": {
        "id": "EuPtf5--D7yk",
        "colab_type": "code",
        "colab": {}
      },
      "source": [
        "SRC = Field(tokenize=tokenize,\n",
        "            init_token = '<sos>', \n",
        "            eos_token = '<eos>', \n",
        "            lower = True)\n",
        "\n",
        "TRG = Field(tokenize=tokenize,\n",
        "            init_token = '<sos>', \n",
        "            eos_token = '<eos>', \n",
        "            lower = True)\n",
        "\n",
        "dataset = torchtext.data.TabularDataset(\n",
        "    path='data.txt',\n",
        "    format='tsv',\n",
        "    fields=[('trg', TRG), ('src', SRC)]\n",
        ")"
      ],
      "execution_count": 0,
      "outputs": []
    },
    {
      "cell_type": "code",
      "metadata": {
        "id": "RhSiawhcD7y8",
        "colab_type": "code",
        "colab": {}
      },
      "source": [
        "train_data, valid_data, test_data = dataset.split(split_ratio=[0.8, 0.15, 0.05])"
      ],
      "execution_count": 0,
      "outputs": []
    },
    {
      "cell_type": "code",
      "metadata": {
        "id": "3FG1C7a3D7zT",
        "colab_type": "code",
        "outputId": "ab941a3e-743f-4041-b635-713272dbcccc",
        "colab": {
          "base_uri": "https://localhost:8080/",
          "height": 69
        }
      },
      "source": [
        "print(f\"Number of training examples: {len(train_data.examples)}\")\n",
        "print(f\"Number of validation examples: {len(valid_data.examples)}\")\n",
        "print(f\"Number of testing examples: {len(test_data.examples)}\")"
      ],
      "execution_count": 36,
      "outputs": [
        {
          "output_type": "stream",
          "text": [
            "Number of training examples: 40000\n",
            "Number of validation examples: 2500\n",
            "Number of testing examples: 7500\n"
          ],
          "name": "stdout"
        }
      ]
    },
    {
      "cell_type": "code",
      "metadata": {
        "id": "50vrWMqli5yy",
        "colab_type": "code",
        "outputId": "f8945202-86c2-4d5e-9744-740189fa0c55",
        "colab": {
          "base_uri": "https://localhost:8080/",
          "height": 55
        }
      },
      "source": [
        "print(vars(train_data.examples[0]))"
      ],
      "execution_count": 37,
      "outputs": [
        {
          "output_type": "stream",
          "text": [
            "{'trg': ['all', 'accommodation', 'at', 'rey', 'carlos', 'offers', 'views', 'from', 'the', 'private', 'terrace', '.'], 'src': ['с', 'собственных', 'террас', 'всех', 'номеров', 'отеля', 'rey', 'carlos', 'открывается', 'прекрасный', 'вид', '.']}\n"
          ],
          "name": "stdout"
        }
      ]
    },
    {
      "cell_type": "code",
      "metadata": {
        "id": "RlgqnxThEiBD",
        "colab_type": "code",
        "colab": {}
      },
      "source": [
        "# prepare data for bpe\n",
        "with open('train.en', 'w') as f_src,  open('train.ru', 'w') as f_dst:\n",
        "    for line in train_data.examples:\n",
        "        src_line, dst_line = line.src, line.trg\n",
        "        src_line = ''.join(map(str, src_line))\n",
        "        dst_line = ''.join(map(str, dst_line))\n",
        "        f_src.write(src_line + '\\n')\n",
        "        f_dst.write(dst_line + '\\n')"
      ],
      "execution_count": 0,
      "outputs": []
    },
    {
      "cell_type": "code",
      "metadata": {
        "id": "yRegaYcDFEaq",
        "colab_type": "code",
        "colab": {}
      },
      "source": [
        "# Build vocabulary\n",
        "bpe = {}\n",
        "for lang in ['en', 'ru']:\n",
        "    learn_bpe(open('./train.' + lang), open('bpe_rules.' + lang, 'w'), num_symbols=5000)\n",
        "    bpe[lang] = BPE(open('./bpe_rules.' + lang))"
      ],
      "execution_count": 0,
      "outputs": []
    },
    {
      "cell_type": "code",
      "metadata": {
        "id": "bOgG7Fj2GA-j",
        "colab_type": "code",
        "colab": {}
      },
      "source": [
        "# Apply bpe and prepare data\n",
        "for dataset in [train_data, valid_data, test_data]:\n",
        "    for line in dataset:\n",
        "        line.src = \" \".join(map(str, line.src))\n",
        "        \n",
        "        line.src = (bpe['en'].process_line(line.src)).split(\" \")\n",
        "        \n",
        "        line.trg = \" \".join(map(str, line.trg))\n",
        "      \n",
        "        line.trg = (bpe['ru'].process_line(line.trg)).split(\" \")\n",
        "        "
      ],
      "execution_count": 0,
      "outputs": []
    },
    {
      "cell_type": "code",
      "metadata": {
        "id": "qC4qDHUBnaZN",
        "colab_type": "code",
        "colab": {}
      },
      "source": [
        "\n",
        "#for dataset in [train_data, valid_data, test_data]:\n",
        "    #for line in dataset:\n",
        "      #line.src = \" \".join(map(str, line.src))\n",
        "      #line.src = line.src.replace('@@', '')\n",
        "      #line.src = (line.src).split(\" \")\n",
        "      #line.trg = \" \".join(map(str, line.trg))\n",
        "      #line.trg = line.trg.replace('@@', '')\n",
        "      #line.trg = (line.trg).split(\" \") \n",
        "\n",
        "      "
      ],
      "execution_count": 0,
      "outputs": []
    },
    {
      "cell_type": "code",
      "metadata": {
        "id": "UNbZkM2_D70A",
        "colab_type": "code",
        "colab": {}
      },
      "source": [
        "SRC.build_vocab(train_data, min_freq = 2)\n",
        "TRG.build_vocab(train_data, min_freq = 2)"
      ],
      "execution_count": 0,
      "outputs": []
    },
    {
      "cell_type": "code",
      "metadata": {
        "id": "s2F2uVcjD71J",
        "colab_type": "code",
        "outputId": "0f8b762c-5db0-4bef-85e6-6c02c4105394",
        "colab": {
          "base_uri": "https://localhost:8080/",
          "height": 52
        }
      },
      "source": [
        "print(f\"Unique tokens in source (ru) vocabulary: {len(SRC.vocab)}\")\n",
        "print(f\"Unique tokens in target (en) vocabulary: {len(TRG.vocab)}\")"
      ],
      "execution_count": 43,
      "outputs": [
        {
          "output_type": "stream",
          "text": [
            "Unique tokens in source (ru) vocabulary: 14128\n",
            "Unique tokens in target (en) vocabulary: 10139\n"
          ],
          "name": "stdout"
        }
      ]
    },
    {
      "cell_type": "markdown",
      "metadata": {
        "id": "4nWjycv4D71f",
        "colab_type": "text"
      },
      "source": [
        "Here are tokens from original (RU) corpus:"
      ]
    },
    {
      "cell_type": "code",
      "metadata": {
        "id": "M6X4z5R_D71h",
        "colab_type": "code",
        "outputId": "fa267740-f105-4227-d8f5-886c3103f700",
        "colab": {
          "base_uri": "https://localhost:8080/",
          "height": 277
        }
      },
      "source": [
        "SRC.vocab.itos[::1000]"
      ],
      "execution_count": 44,
      "outputs": [
        {
          "output_type": "execute_result",
          "data": {
            "text/plain": [
              "['<unk>',\n",
              " 'морепродуктов',\n",
              " 'балатон',\n",
              " 'краби',\n",
              " 'emerald',\n",
              " 'эксетер',\n",
              " 'palme',\n",
              " 'функциональной',\n",
              " 'диагорас',\n",
              " 'таверна',\n",
              " 'madame',\n",
              " 'варочными',\n",
              " 'кутб',\n",
              " 'присмотра',\n",
              " 'шезлонгов']"
            ]
          },
          "metadata": {
            "tags": []
          },
          "execution_count": 44
        }
      ]
    },
    {
      "cell_type": "markdown",
      "metadata": {
        "id": "uXzaupZtD715",
        "colab_type": "text"
      },
      "source": [
        "\"And from target (EN) corpus:"
      ]
    },
    {
      "cell_type": "code",
      "metadata": {
        "id": "jkNapmGND718",
        "colab_type": "code",
        "colab": {}
      },
      "source": [
        "TRG.vocab.itos[::1000]"
      ],
      "execution_count": 0,
      "outputs": []
    },
    {
      "cell_type": "markdown",
      "metadata": {
        "id": "PgXVpYDsD73y",
        "colab_type": "text"
      },
      "source": [
        "And here is example from train dataset:"
      ]
    },
    {
      "cell_type": "code",
      "metadata": {
        "id": "v0sPDbQrD734",
        "colab_type": "code",
        "colab": {}
      },
      "source": [
        "print(vars(train_data.examples[9]))"
      ],
      "execution_count": 0,
      "outputs": []
    },
    {
      "cell_type": "markdown",
      "metadata": {
        "id": "UB16OHR6D74F",
        "colab_type": "text"
      },
      "source": [
        "Let's check the length distributions:"
      ]
    },
    {
      "cell_type": "code",
      "metadata": {
        "id": "ARWZ4Bf3D74I",
        "colab_type": "code",
        "colab": {}
      },
      "source": [
        "src_length = map(len, [vars(x)['src'] for x in train_data.examples])\n",
        "trg_length = map(len, [vars(x)['trg'] for x in train_data.examples])\n",
        "\n",
        "print('Length distribution in Train data')\n",
        "plt.figure(figsize=[8, 4])\n",
        "plt.subplot(1, 2, 1)\n",
        "plt.title(\"source length\")\n",
        "plt.hist(list(src_length), bins=20);\n",
        "\n",
        "plt.subplot(1, 2, 2)\n",
        "plt.title(\"translation length\")\n",
        "plt.hist(list(trg_length), bins=20);"
      ],
      "execution_count": 0,
      "outputs": []
    },
    {
      "cell_type": "code",
      "metadata": {
        "id": "3o96I62aD74U",
        "colab_type": "code",
        "colab": {}
      },
      "source": [
        "src_length = map(len, [vars(x)['src'] for x in test_data.examples])\n",
        "trg_length = map(len, [vars(x)['trg'] for x in test_data.examples])\n",
        "\n",
        "print('Length distribution in Test data')\n",
        "plt.figure(figsize=[8, 4])\n",
        "plt.subplot(1, 2, 1)\n",
        "plt.title(\"source length\")\n",
        "plt.hist(list(src_length), bins=20);\n",
        "\n",
        "plt.subplot(1, 2, 2)\n",
        "plt.title(\"translation length\")\n",
        "plt.hist(list(trg_length), bins=20);"
      ],
      "execution_count": 0,
      "outputs": []
    },
    {
      "cell_type": "markdown",
      "metadata": {
        "id": "oP3AWlUaTlUw",
        "colab_type": "text"
      },
      "source": [
        ""
      ]
    },
    {
      "cell_type": "markdown",
      "metadata": {
        "id": "4M89152pD74g",
        "colab_type": "text"
      },
      "source": [
        "### Model side\n",
        "__Here comes simple pipeline of NMT model learning. It almost copies the week03 practice__"
      ]
    },
    {
      "cell_type": "code",
      "metadata": {
        "id": "BGabsi_gD74i",
        "colab_type": "code",
        "colab": {}
      },
      "source": [
        "device = torch.device('cuda' if torch.cuda.is_available() else 'cpu')"
      ],
      "execution_count": 0,
      "outputs": []
    },
    {
      "cell_type": "code",
      "metadata": {
        "id": "yZ0_dmSmD740",
        "colab_type": "code",
        "outputId": "bcf96f0b-4963-47f6-e62e-c3f6873ea77f",
        "colab": {
          "base_uri": "https://localhost:8080/",
          "height": 35
        }
      },
      "source": [
        "device"
      ],
      "execution_count": 46,
      "outputs": [
        {
          "output_type": "execute_result",
          "data": {
            "text/plain": [
              "device(type='cuda')"
            ]
          },
          "metadata": {
            "tags": []
          },
          "execution_count": 46
        }
      ]
    },
    {
      "cell_type": "markdown",
      "metadata": {
        "id": "dp1HU_HGeQAq",
        "colab_type": "text"
      },
      "source": [
        ""
      ]
    },
    {
      "cell_type": "code",
      "metadata": {
        "id": "Ph5aROm-vCNo",
        "colab_type": "code",
        "outputId": "86be722e-2822-4fd7-fde0-0941b8c26eef",
        "colab": {
          "base_uri": "https://localhost:8080/",
          "height": 35
        }
      },
      "source": [
        "len(SRC.vocab)"
      ],
      "execution_count": 47,
      "outputs": [
        {
          "output_type": "execute_result",
          "data": {
            "text/plain": [
              "14128"
            ]
          },
          "metadata": {
            "tags": []
          },
          "execution_count": 47
        }
      ]
    },
    {
      "cell_type": "code",
      "metadata": {
        "id": "0hALdYzsD75C",
        "colab_type": "code",
        "colab": {}
      },
      "source": [
        "\n",
        "\n",
        "BATCH_SIZE = 128\n",
        "\n",
        "train_iterator, valid_iterator, test_iterator = BucketIterator.splits(\n",
        "    (train_data, valid_data, test_data), \n",
        "    batch_size = BATCH_SIZE, \n",
        "    device = device,\n",
        "    sort = False)"
      ],
      "execution_count": 0,
      "outputs": []
    },
    {
      "cell_type": "code",
      "metadata": {
        "id": "AOynyKtDrwvT",
        "colab_type": "code",
        "colab": {}
      },
      "source": [
        "submission_dataset = next(iter(test_iterator))"
      ],
      "execution_count": 0,
      "outputs": []
    },
    {
      "cell_type": "code",
      "metadata": {
        "id": "buvp8PgB4oKR",
        "colab_type": "code",
        "outputId": "1a0696d4-5362-4fbd-8f19-a502cf823865",
        "colab": {
          "base_uri": "https://localhost:8080/",
          "height": 52
        }
      },
      "source": [
        "import modules_\n",
        "\n",
        "import imp\n",
        "imp.reload(modules_)\n",
        "\n",
        "Encoder = modules_.Encoder\n",
        "Attention = modules_.Attention\n",
        "DecoderWithAttention = modules_.DecoderWithAttention\n",
        "Seq2Seq = modules_.Seq2Seq\n",
        "SRC.vocab, TRG.vocab"
      ],
      "execution_count": 50,
      "outputs": [
        {
          "output_type": "execute_result",
          "data": {
            "text/plain": [
              "(<torchtext.vocab.Vocab at 0x7f69035efc88>,\n",
              " <torchtext.vocab.Vocab at 0x7f69035efbe0>)"
            ]
          },
          "metadata": {
            "tags": []
          },
          "execution_count": 50
        }
      ]
    },
    {
      "cell_type": "code",
      "metadata": {
        "id": "rPKjvYlYr4d5",
        "colab_type": "code",
        "outputId": "5d36df7d-c733-4c03-dcab-685d94c3352f",
        "colab": {
          "base_uri": "https://localhost:8080/",
          "height": 72
        }
      },
      "source": [
        "INPUT_DIM = len(SRC.vocab)\n",
        "OUTPUT_DIM = len(TRG.vocab)\n",
        "ENC_EMB_DIM = 256\n",
        "DEC_EMB_DIM = 256\n",
        "HID_DIM = 512\n",
        "N_LAYERS = 1\n",
        "ENC_DROPOUT = 0.5\n",
        "DEC_DROPOUT = 0.5\n",
        "\n",
        "enc = Encoder(INPUT_DIM, ENC_EMB_DIM, HID_DIM, N_LAYERS, ENC_DROPOUT)\n",
        "attention = Attention(HID_DIM, HID_DIM)\n",
        "dec = DecoderWithAttention(OUTPUT_DIM, DEC_EMB_DIM, HID_DIM, HID_DIM, DEC_DROPOUT, attention)\n",
        "\n",
        "# dont forget to put the model to the right device\n",
        "model = Seq2Seq(enc, dec, device).to(device)\n",
        "\n",
        "def init_weights(m):\n",
        "    # init weights for the nn from uniform distribution (refer to the week03 practice for hint)\n",
        "    for name, param in m.named_parameters():\n",
        "        nn.init.uniform_(param, -0.08, 0.08)\n",
        "        \n",
        "model.apply(init_weights)\n",
        "\n",
        "optimizer = optim.Adam(model.parameters())\n",
        "\n",
        "PAD_IDX = TRG.vocab.stoi['<pad>']\n",
        "\n",
        "criterion = nn.CrossEntropyLoss(ignore_index = PAD_IDX)\n",
        "\n",
        "def train(model, iterator, optimizer, criterion, clip, train_history=None, valid_history=None):\n",
        "    model.train()\n",
        "    \n",
        "    epoch_loss = 0\n",
        "    history = []\n",
        "    for i, batch in enumerate(iterator):\n",
        "        \n",
        "        src = batch.src\n",
        "        trg = batch.trg\n",
        "        \n",
        "        optimizer.zero_grad()\n",
        "        \n",
        "        output = model(src, trg)\n",
        "        \n",
        "        #trg = [trg sent len, batch size]\n",
        "        #output = [trg sent len, batch size, output dim]\n",
        "        \n",
        "        output = output[1:].view(-1, output.shape[-1])\n",
        "        trg = trg[1:].view(-1)\n",
        "        \n",
        "        #trg = [(trg sent len - 1) * batch size]\n",
        "        #output = [(trg sent len - 1) * batch size, output dim]\n",
        "        \n",
        "        loss = criterion(output, trg)\n",
        "        \n",
        "        loss.backward()\n",
        "        \n",
        "        # Let's clip the gradient\n",
        "        torch.nn.utils.clip_grad_norm_(model.parameters(), clip)\n",
        "        \n",
        "        optimizer.step()\n",
        "        \n",
        "        epoch_loss += loss.item()\n",
        "        \n",
        "        history.append(loss.cpu().data.numpy())\n",
        "        if (i+1)%10==0:\n",
        "            fig, ax = plt.subplots(nrows=1, ncols=2, figsize=(12, 8))\n",
        "\n",
        "            clear_output(True)\n",
        "            ax[0].plot(history, label='train loss')\n",
        "            ax[0].set_xlabel('Batch')\n",
        "            ax[0].set_title('Train loss')\n",
        "            if train_history is not None:\n",
        "                ax[1].plot(train_history, label='general train history')\n",
        "                ax[1].set_xlabel('Epoch')\n",
        "            if valid_history is not None:\n",
        "                ax[1].plot(valid_history, label='general valid history')\n",
        "            plt.legend()\n",
        "            \n",
        "            plt.show()\n",
        "\n",
        "        \n",
        "    return epoch_loss / len(iterator)\n",
        "\n",
        "def evaluate(model, iterator, criterion):\n",
        "    \n",
        "    model.eval()\n",
        "    \n",
        "    epoch_loss = 0\n",
        "    \n",
        "    history = []\n",
        "    \n",
        "    with torch.no_grad():\n",
        "    \n",
        "        for i, batch in enumerate(iterator):\n",
        "\n",
        "            src = batch.src\n",
        "            trg = batch.trg\n",
        "\n",
        "            output = model(src, trg, 0) #turn off teacher forcing\n",
        "\n",
        "            #trg = [trg sent len, batch size]\n",
        "            #output = [trg sent len, batch size, output dim]\n",
        "\n",
        "            output = output[1:].view(-1, output.shape[-1])\n",
        "            trg = trg[1:].view(-1)\n",
        "\n",
        "            #trg = [(trg sent len - 1) * batch size]\n",
        "            #output = [(trg sent len - 1) * batch size, output dim]\n",
        "\n",
        "            loss = criterion(output, trg)\n",
        "            \n",
        "            epoch_loss += loss.item()\n",
        "        \n",
        "    return epoch_loss / len(iterator)\n",
        "\n",
        "def epoch_time(start_time, end_time):\n",
        "    elapsed_time = end_time - start_time\n",
        "    elapsed_mins = int(elapsed_time / 60)\n",
        "    elapsed_secs = int(elapsed_time - (elapsed_mins * 60))\n",
        "    return elapsed_mins, elapsed_secs\n",
        "\n",
        "import matplotlib\n",
        "matplotlib.rcParams.update({'figure.figsize': (16, 12), 'font.size': 14})\n",
        "import matplotlib.pyplot as plt\n",
        "%matplotlib inline\n",
        "from IPython.display import clear_output\n",
        "\n"
      ],
      "execution_count": 51,
      "outputs": [
        {
          "output_type": "stream",
          "text": [
            "/usr/local/lib/python3.6/dist-packages/torch/nn/modules/rnn.py:50: UserWarning: dropout option adds dropout after all but last recurrent layer, so non-zero dropout expects num_layers greater than 1, but got dropout=0.5 and num_layers=1\n",
            "  \"num_layers={}\".format(dropout, num_layers))\n"
          ],
          "name": "stderr"
        }
      ]
    },
    {
      "cell_type": "code",
      "metadata": {
        "id": "vZGqS5D47ZyW",
        "colab_type": "code",
        "colab": {
          "base_uri": "https://localhost:8080/",
          "height": 35
        },
        "outputId": "fcde9a91-36f2-4db5-f61d-5f411b2097d0"
      },
      "source": [
        "def count_parameters(model):\n",
        "    return sum(p.numel() for p in model.parameters() if p.requires_grad)\n",
        "\n",
        "print(f'The model has {count_parameters(model):,} trainable parameters')"
      ],
      "execution_count": 52,
      "outputs": [
        {
          "output_type": "stream",
          "text": [
            "The model has 23,271,323 trainable parameters\n"
          ],
          "name": "stdout"
        }
      ]
    },
    {
      "cell_type": "code",
      "metadata": {
        "id": "i_sABiOXsLkg",
        "colab_type": "code",
        "outputId": "b902fb06-f18e-4f1b-ca1f-7e52ca21b273",
        "colab": {
          "base_uri": "https://localhost:8080/",
          "height": 583
        }
      },
      "source": [
        "train_history = []\n",
        "valid_history = []\n",
        "\n",
        "N_EPOCHS = 5\n",
        "CLIP = 1\n",
        "\n",
        "best_valid_loss = float('inf')\n",
        "\n",
        "for epoch in range(N_EPOCHS):\n",
        "    \n",
        "    start_time = time.time()\n",
        "    \n",
        "    train_loss = train(model, train_iterator, optimizer, criterion, CLIP, train_history, valid_history)\n",
        "    valid_loss = evaluate(model, valid_iterator, criterion)\n",
        "    \n",
        "    end_time = time.time()\n",
        "    \n",
        "    epoch_mins, epoch_secs = epoch_time(start_time, end_time)\n",
        "    \n",
        "    if valid_loss < best_valid_loss:\n",
        "        best_valid_loss = valid_loss\n",
        "        torch.save(model.state_dict(), 'tut1-model.pt')\n",
        "    \n",
        "    train_history.append(train_loss)\n",
        "    valid_history.append(valid_loss)\n",
        "    print(f'Epoch: {epoch+1:02} | Time: {epoch_mins}m {epoch_secs}s')\n",
        "    print(f'\\tTrain Loss: {train_loss:.3f} | Train PPL: {math.exp(train_loss):7.3f}')\n",
        "    print(f'\\t Val. Loss: {valid_loss:.3f} |  Val. PPL: {math.exp(valid_loss):7.3f}')\n",
        "\n",
        "model.load_state_dict(torch.load('tut1-model.pt'))\n",
        "\n",
        "test_loss = evaluate(model, test_iterator, criterion)\n",
        "\n",
        "print(f'| Test Loss: {test_loss:.3f} | Test PPL: {math.exp(test_loss):7.3f} |')"
      ],
      "execution_count": 20,
      "outputs": [
        {
          "output_type": "display_data",
          "data": {
            "image/png": "[encoded data removed]",
            "text/plain": [
              "<Figure size 864x576 with 2 Axes>"
            ]
          },
          "metadata": {
            "tags": [],
            "needs_background": "light"
          }
        },
        {
          "output_type": "stream",
          "text": [
            "Epoch: 05 | Time: 3m 50s\n",
            "\tTrain Loss: 2.647 | Train PPL:  14.108\n",
            "\t Val. Loss: 4.481 |  Val. PPL:  88.319\n",
            "| Test Loss: 4.532 | Test PPL:  92.987 |\n"
          ],
          "name": "stdout"
        }
      ]
    },
    {
      "cell_type": "code",
      "metadata": {
        "id": "Lw32ZQK4h-F_",
        "colab_type": "code",
        "colab": {}
      },
      "source": [
        ""
      ],
      "execution_count": 0,
      "outputs": []
    },
    {
      "cell_type": "markdown",
      "metadata": {
        "id": "KaiOs6roD78e",
        "colab_type": "text"
      },
      "source": [
        "__Let's take a look at our network quality__:"
      ]
    },
    {
      "cell_type": "code",
      "metadata": {
        "id": "XW2VRoFL-oia",
        "colab_type": "code",
        "colab": {
          "base_uri": "https://localhost:8080/",
          "height": 228
        },
        "outputId": "58a1d144-2ed7-4391-d89e-db5b5775e018"
      },
      "source": [
        "! wget https://raw.githubusercontent.com/ml-mipt/ml-mipt/advanced/homeworks/Lab1_NLP/utils.py"
      ],
      "execution_count": 21,
      "outputs": [
        {
          "output_type": "stream",
          "text": [
            "--2020-05-02 14:38:19--  https://raw.githubusercontent.com/ml-mipt/ml-mipt/advanced/homeworks/Lab1_NLP/utils.py\n",
            "Resolving raw.githubusercontent.com (raw.githubusercontent.com)... 151.101.0.133, 151.101.64.133, 151.101.128.133, ...\n",
            "Connecting to raw.githubusercontent.com (raw.githubusercontent.com)|151.101.0.133|:443... connected.\n",
            "HTTP request sent, awaiting response... 200 OK\n",
            "Length: 908 [text/plain]\n",
            "Saving to: ‘utils.py’\n",
            "\n",
            "\rutils.py              0%[                    ]       0  --.-KB/s               \rutils.py            100%[===================>]     908  --.-KB/s    in 0s      \n",
            "\n",
            "2020-05-02 14:38:19 (58.9 MB/s) - ‘utils.py’ saved [908/908]\n",
            "\n"
          ],
          "name": "stdout"
        }
      ]
    },
    {
      "cell_type": "code",
      "metadata": {
        "id": "moi5H6NlD78g",
        "colab_type": "code",
        "colab": {}
      },
      "source": [
        "import utils\n",
        "import imp\n",
        "imp.reload(utils)\n",
        "generate_translation = utils.generate_translation\n",
        "remove_tech_tokens = utils.remove_tech_tokens\n",
        "get_text = utils.get_text\n",
        "flatten = utils.flatten"
      ],
      "execution_count": 0,
      "outputs": []
    },
    {
      "cell_type": "code",
      "metadata": {
        "id": "Va9qeTYKD78x",
        "colab_type": "code",
        "colab": {}
      },
      "source": [
        "batch = next(iter(test_iterator))"
      ],
      "execution_count": 0,
      "outputs": []
    },
    {
      "cell_type": "code",
      "metadata": {
        "id": "dCZO7rDnD79K",
        "colab_type": "code",
        "colab": {}
      },
      "source": [
        "from nltk.translate.bleu_score import corpus_bleu\n",
        "\n",
        "#     \"\"\" Estimates corpora-level BLEU score of model's translations given inp and reference out \"\"\"\n",
        "#     translations, _ = model.translate_lines(inp_lines, **flags)\n",
        "#     # Note: if you experience out-of-memory error, split input lines into batches and translate separately\n",
        "#     return corpus_bleu([[ref] for ref in out_lines], translations) * 100"
      ],
      "execution_count": 0,
      "outputs": []
    },
    {
      "cell_type": "code",
      "metadata": {
        "id": "Ej9erhfgD79i",
        "colab_type": "code",
        "colab": {}
      },
      "source": [
        "import tqdm"
      ],
      "execution_count": 0,
      "outputs": []
    },
    {
      "cell_type": "code",
      "metadata": {
        "id": "Dql4RfvRD79y",
        "colab_type": "code",
        "colab": {
          "base_uri": "https://localhost:8080/",
          "height": 35
        },
        "outputId": "d7b1b934-fdd5-403e-b993-0c25c75d7a7c"
      },
      "source": [
        "original_text = []\n",
        "generated_text = []\n",
        "model.eval()\n",
        "with torch.no_grad():\n",
        "\n",
        "    for i, batch in tqdm.tqdm(enumerate(test_iterator)):\n",
        "\n",
        "        src = batch.src\n",
        "        trg = batch.trg\n",
        "\n",
        "        output = model(src, trg, 0) #turn off teacher forcing\n",
        "\n",
        "        #trg = [trg sent len, batch size]\n",
        "        #output = [trg sent len, batch size, output dim]\n",
        "\n",
        "        output = output.argmax(dim=-1)\n",
        "        \n",
        "        original_text.extend([get_text(x, TRG.vocab) for x in trg.cpu().numpy().T])\n",
        "        generated_text.extend([get_text(x, TRG.vocab) for x in output.detach().cpu().numpy().T])\n",
        "\n",
        "# original_text = flatten(original_text)\n",
        "# generated_text = flatten(generated_text)"
      ],
      "execution_count": 27,
      "outputs": [
        {
          "output_type": "stream",
          "text": [
            "59it [00:13,  4.34it/s]\n"
          ],
          "name": "stderr"
        }
      ]
    },
    {
      "cell_type": "code",
      "metadata": {
        "id": "rX3FOHFX3yHU",
        "colab_type": "code",
        "colab": {}
      },
      "source": [
        "def undo_text(original_text):\n",
        "  original = []\n",
        "\n",
        "\n",
        "  b = ''\n",
        "    \n",
        "  i = 0   \n",
        "  while i < len(original_text):\n",
        "    while original_text[i][-1]=='@':\n",
        "      \n",
        "    \n",
        "      b += original_text[i].replace('@','')\n",
        "      i +=1\n",
        "    else:\n",
        "      b += original_text[i]\n",
        "      original.append(b)\n",
        "      b = ''\n",
        "      i = i+1\n",
        "  return original"
      ],
      "execution_count": 0,
      "outputs": []
    },
    {
      "cell_type": "code",
      "metadata": {
        "id": "sq-AQUYT3zrx",
        "colab_type": "code",
        "colab": {}
      },
      "source": [
        "generated_text = undo_text(generated_text)\n",
        "original_text = undo_text(original_text)"
      ],
      "execution_count": 0,
      "outputs": []
    },
    {
      "cell_type": "code",
      "metadata": {
        "id": "I0aG34_YD7-E",
        "colab_type": "code",
        "colab": {
          "base_uri": "https://localhost:8080/",
          "height": 35
        },
        "outputId": "ce2d33f8-8369-4b85-f9db-5120b82173b4"
      },
      "source": [
        "corpus_bleu([[text] for text in original_text], generated_text) * 100"
      ],
      "execution_count": 28,
      "outputs": [
        {
          "output_type": "execute_result",
          "data": {
            "text/plain": [
              "20.501764872267117"
            ]
          },
          "metadata": {
            "tags": []
          },
          "execution_count": 28
        }
      ]
    },
    {
      "cell_type": "markdown",
      "metadata": {
        "id": "zkZQJ_z8D7-Q",
        "colab_type": "text"
      },
      "source": [
        "Baseline solution BLEU score is quite low. Try to achieve at least __18__ BLEU on the test set. \n",
        "The checkpoints are:\n",
        "\n",
        "* __18__ - minimal score to submit the homework, 30% of points\n",
        "\n",
        "* __20__ - good score, 70% of points\n",
        "\n",
        "* __25__ - excellent score, 100% of points"
      ]
    },
    {
      "cell_type": "markdown",
      "metadata": {
        "id": "6o1CjhH2b_BP",
        "colab_type": "text"
      },
      "source": [
        "Summary:\n",
        "\n",
        "---\n",
        "\n",
        "\n",
        "При выполнении данной лабы использовались: \n",
        "\n",
        "\n",
        "*   Transformer(Harvard implementation, includes Multi-head attention, positional encoding)\n",
        "*   BPE\n",
        "*   Attention\n",
        "\n",
        "Blue-score:\n",
        "*   Transformer without BPE: 18.7\n",
        "*   Transformer + BPE: 19.7\n",
        "*   Attention: 20.5\n",
        "\n",
        "\n",
        "Complexity of the models(number of trainable parameters):\n",
        "\n",
        "*   Transformer without BPE: 61,804,965 trainable parameters\n",
        "*   Transformer + BPE: 61,772,201 trainable parameters\n",
        "*   Attention: 23,271,323 trainable parameters\n",
        "\n",
        "\n",
        "\n",
        "\n",
        "\n",
        "thoughts:\n",
        "также пробовал attention+bpe, но не смог справиться с ошибкой cuda out of memory, видимо bpe сильно усложняет обучение, несмотря на понижение размерности словаря.\n",
        "\n",
        "BPE повышает качество перевода, но сильно усложняет обучение.\n",
        "Относительно низкий результат трансформера может быть связан с некорректной реализацией на данном датасете и маленьким словарем.\n",
        "\n",
        "\n",
        "\n",
        "\n",
        "\n",
        "\n",
        "\n",
        "\n",
        "\n",
        "\n",
        "\n"
      ]
    },
    {
      "cell_type": "code",
      "metadata": {
        "id": "WXPQX1bAcJQl",
        "colab_type": "code",
        "colab": {}
      },
      "source": [
        ""
      ],
      "execution_count": 0,
      "outputs": []
    }
  ]
}